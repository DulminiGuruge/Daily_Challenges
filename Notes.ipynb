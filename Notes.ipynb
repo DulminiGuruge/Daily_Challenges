{
 "cells": [
  {
   "cell_type": "markdown",
   "metadata": {},
   "source": [
    "**Palindrome**\n",
    "\n",
    "if, after converting all uppercase letters into lowercase letters and removing all non-alphanumeric characters, it reads the same forward and backward. \n",
    "\n",
    "**Alphanumeric characters** \n",
    "\n",
    "include letters and numbers.\n",
    "\n",
    "**Anagram**\n",
    "\n",
    "An Anagram is a word or phrase formed by rearranging the letters of a different word or phrase, typically using all the original letters exactly once."
   ]
  }
 ],
 "metadata": {
  "language_info": {
   "name": "python"
  }
 },
 "nbformat": 4,
 "nbformat_minor": 2
}
