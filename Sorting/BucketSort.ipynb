{
 "cells": [
  {
   "cell_type": "code",
   "execution_count": null,
   "metadata": {},
   "outputs": [],
   "source": [
    "# Python3 program to sort an array\n",
    "# using bucket sort\n",
    "\n",
    "\n",
    "def insertionSort(b):\n",
    "\tfor i in range(1, len(b)):\n",
    "\t\tup = b[i]\n",
    "\t\tj = i - 1\n",
    "\t\twhile j >= 0 and b[j] > up:\n",
    "\t\t\tb[j + 1] = b[j]\n",
    "\t\t\tj -= 1\n",
    "\t\tb[j + 1] = up\n",
    "\treturn b\n",
    "\n",
    "\n",
    "def bucketSort(x):\n",
    "\tarr = []\n",
    "\tslot_num = 10 # 10 means 10 slots, each\n",
    "\t# slot's size is 0.1\n",
    "\tfor i in range(slot_num):\n",
    "\t\tarr.append([])\n",
    "\n",
    "\t# Put array elements in different buckets\n",
    "\tfor j in x:\n",
    "\t\tindex_b = int(slot_num * j)\n",
    "\t\tarr[index_b].append(j)\n",
    "\n",
    "\t# Sort individual buckets\n",
    "\tfor i in range(slot_num):\n",
    "\t\tarr[i] = insertionSort(arr[i])\n",
    "\n",
    "\t# concatenate the result\n",
    "\tk = 0\n",
    "\tfor i in range(slot_num):\n",
    "\t\tfor j in range(len(arr[i])):\n",
    "\t\t\tx[k] = arr[i][j]\n",
    "\t\t\tk += 1\n",
    "\treturn x\n",
    "\n",
    "\n",
    "# Driver Code\n",
    "x = [0.897, 0.565, 0.656,\n",
    "\t0.1234, 0.665, 0.3434]\n",
    "print(\"Sorted Array is\")\n",
    "print(bucketSort(x))\n",
    "\n",
    "# This code is contributed by\n",
    "# Oneil Hsiao\n"
   ]
  }
 ],
 "metadata": {
  "language_info": {
   "name": "python"
  }
 },
 "nbformat": 4,
 "nbformat_minor": 2
}
