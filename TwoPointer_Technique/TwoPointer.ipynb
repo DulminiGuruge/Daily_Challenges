{
 "cells": [
  {
   "cell_type": "markdown",
   "metadata": {},
   "source": [
    "### Two Pointer Technique\n",
    "\n",
    "Iterate the array from two ends to the middle.\n",
    "\n",
    "One pointer starts from the beginning while the other pointer starts from the end."
   ]
  }
 ],
 "metadata": {
  "language_info": {
   "name": "python"
  }
 },
 "nbformat": 4,
 "nbformat_minor": 2
}
